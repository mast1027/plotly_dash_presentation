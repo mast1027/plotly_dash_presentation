{
 "cells": [
  {
   "attachments": {},
   "cell_type": "markdown",
   "id": "77421f05",
   "metadata": {},
   "source": [
    "# Plotly Dash with Dash Bootstrap: Interactive Data Visualization with Jupyter Notebooks"
   ]
  },
  {
   "attachments": {},
   "cell_type": "markdown",
   "id": "104370c0",
   "metadata": {},
   "source": [
    "## Introduction\n",
    "\n",
    "[Plotly Dash](https://plotly.com/dash/) is a powerful Python library for building web-based dashboards and applications. In this presentation, we will explore the capabilities of Plotly Dash in Jupyter Notebooks and how it can be used to create interactive data visualizations. Additionally, we will discuss the integration of [Dash Bootstrap](https://dash-bootstrap-components.opensource.faculty.ai/), a popular library that provides additional styling options and components to enhance the visual appeal of Dash applications."
   ]
  },
  {
   "attachments": {},
   "cell_type": "markdown",
   "id": "7c3c0170",
   "metadata": {},
   "source": [
    "## Overview of Plotly Dash\n",
    "\n",
    "- Plotly Dash is an open-source Python framework for building web-based analytics applications.\n",
    "- It is built on top of Plotly, a popular library for creating interactive visualizations.\n",
    "- Dash provides a high-level API that simplifies the process of building interactive dashboards and web applications.\n",
    "\n",
    "## Advantages of Plotly Dash in Jupyter Notebooks\n",
    "\n",
    "1. Seamless Integration\n",
    "   - Plotly Dash seamlessly integrates with Jupyter Notebooks, enabling you to create interactive visualizations within the familiar Jupyter environment.\n",
    "2. Interactive Dashboards\n",
    "   - With Dash, you can easily create interactive dashboards that allow users to explore and interact with data dynamically.\n",
    "3. Pythonic Development\n",
    "   - Plotly Dash is written in Python and follows Pythonic principles, making it accessible to Python developers of all levels.\n",
    "4. Rich Component Library\n",
    "   - Dash provides a wide range of pre-built components, such as sliders, dropdowns, and graphs, that can be easily customized to create visually appealing and interactive dashboards."
   ]
  },
  {
   "attachments": {},
   "cell_type": "markdown",
   "id": "110bc1db",
   "metadata": {},
   "source": [
    "## Required packages\n",
    "* `pandas` for data exploration\n",
    "* `dash` the basic dash library\n",
    "* `jupyter-dash` extention for getting dash working in a jupyter-notebook\n",
    "* `dash-bootstrap-components` update look and feel of dash UI elements, and add more UI elements\n",
    "\n",
    "### Install packages\n",
    "```bash\n",
    "# create new venv\n",
    "python -m venv\n",
    "\n",
    "# activate venv\n",
    "venv/bin/activate\n",
    "\n",
    "# install packages\n",
    "pip install dash jupyter-dash pandas dash-bootstrap-components\n",
    "```"
   ]
  },
  {
   "attachments": {},
   "cell_type": "markdown",
   "id": "b358e392",
   "metadata": {},
   "source": [
    "## Example: Creating a Dash Dashboard with Bootstrap"
   ]
  },
  {
   "cell_type": "code",
   "execution_count": 1,
   "id": "0c36aa94",
   "metadata": {
    "ExecuteTime": {
     "end_time": "2023-06-27T10:57:07.252895774Z",
     "start_time": "2023-06-27T10:57:07.022238335Z"
    }
   },
   "outputs": [],
   "source": [
    "import pandas as pd"
   ]
  },
  {
   "cell_type": "code",
   "execution_count": 2,
   "id": "9470418c",
   "metadata": {
    "ExecuteTime": {
     "end_time": "2023-06-27T10:57:07.333584465Z",
     "start_time": "2023-06-27T10:57:07.257164467Z"
    }
   },
   "outputs": [],
   "source": [
    "# simplified plotly library for genreating plots\n",
    "import plotly.express as px"
   ]
  },
  {
   "cell_type": "code",
   "execution_count": 3,
   "id": "a7c1c190",
   "metadata": {
    "ExecuteTime": {
     "end_time": "2023-06-27T10:57:07.550290149Z",
     "start_time": "2023-06-27T10:57:07.334464022Z"
    }
   },
   "outputs": [],
   "source": [
    "# usually: from dash import Dash\n",
    "# but for jupyter notebooks use the following\n",
    "from jupyter_dash import JupyterDash"
   ]
  },
  {
   "cell_type": "code",
   "execution_count": 4,
   "id": "0261f304-b056-46a6-aa26-170f29c7312e",
   "metadata": {
    "ExecuteTime": {
     "end_time": "2023-06-27T10:57:07.559601682Z",
     "start_time": "2023-06-27T10:57:07.555146889Z"
    }
   },
   "outputs": [],
   "source": [
    "from dash import (\n",
    "    html,       # html elements\n",
    "    dcc,        # dash core (JS-Ui) components          https://dash.plotly.com/dash-core-components\n",
    "    callback,   # callback on events, e.g. clicks\n",
    "    Output,     # output elements for callbacks\n",
    "    Input       # input elements for callbacks\n",
    "    )"
   ]
  },
  {
   "cell_type": "code",
   "execution_count": 5,
   "id": "39e11347-a648-46e0-95bf-a599b615244d",
   "metadata": {
    "ExecuteTime": {
     "end_time": "2023-06-27T10:57:07.843561756Z",
     "start_time": "2023-06-27T10:57:07.615856559Z"
    }
   },
   "outputs": [
    {
     "data": {
      "text/plain": "          country continent  year  lifeExp       pop   gdpPercap\n0     Afghanistan      Asia  1952   28.801   8425333  779.445314\n1     Afghanistan      Asia  1957   30.332   9240934  820.853030\n2     Afghanistan      Asia  1962   31.997  10267083  853.100710\n3     Afghanistan      Asia  1967   34.020  11537966  836.197138\n4     Afghanistan      Asia  1972   36.088  13079460  739.981106\n...           ...       ...   ...      ...       ...         ...\n3308     Zimbabwe    Africa  1987   62.351   9216418  706.157306\n3309     Zimbabwe    Africa  1992   60.377  10704340  693.420786\n3310     Zimbabwe    Africa  1997   46.809  11404948  792.449960\n3311     Zimbabwe    Africa  2002   39.989  11926563  672.038623\n3312     Zimbabwe    Africa  2007   43.487  12311143  469.709298\n\n[3313 rows x 6 columns]",
      "text/html": "<div>\n<style scoped>\n    .dataframe tbody tr th:only-of-type {\n        vertical-align: middle;\n    }\n\n    .dataframe tbody tr th {\n        vertical-align: top;\n    }\n\n    .dataframe thead th {\n        text-align: right;\n    }\n</style>\n<table border=\"1\" class=\"dataframe\">\n  <thead>\n    <tr style=\"text-align: right;\">\n      <th></th>\n      <th>country</th>\n      <th>continent</th>\n      <th>year</th>\n      <th>lifeExp</th>\n      <th>pop</th>\n      <th>gdpPercap</th>\n    </tr>\n  </thead>\n  <tbody>\n    <tr>\n      <th>0</th>\n      <td>Afghanistan</td>\n      <td>Asia</td>\n      <td>1952</td>\n      <td>28.801</td>\n      <td>8425333</td>\n      <td>779.445314</td>\n    </tr>\n    <tr>\n      <th>1</th>\n      <td>Afghanistan</td>\n      <td>Asia</td>\n      <td>1957</td>\n      <td>30.332</td>\n      <td>9240934</td>\n      <td>820.853030</td>\n    </tr>\n    <tr>\n      <th>2</th>\n      <td>Afghanistan</td>\n      <td>Asia</td>\n      <td>1962</td>\n      <td>31.997</td>\n      <td>10267083</td>\n      <td>853.100710</td>\n    </tr>\n    <tr>\n      <th>3</th>\n      <td>Afghanistan</td>\n      <td>Asia</td>\n      <td>1967</td>\n      <td>34.020</td>\n      <td>11537966</td>\n      <td>836.197138</td>\n    </tr>\n    <tr>\n      <th>4</th>\n      <td>Afghanistan</td>\n      <td>Asia</td>\n      <td>1972</td>\n      <td>36.088</td>\n      <td>13079460</td>\n      <td>739.981106</td>\n    </tr>\n    <tr>\n      <th>...</th>\n      <td>...</td>\n      <td>...</td>\n      <td>...</td>\n      <td>...</td>\n      <td>...</td>\n      <td>...</td>\n    </tr>\n    <tr>\n      <th>3308</th>\n      <td>Zimbabwe</td>\n      <td>Africa</td>\n      <td>1987</td>\n      <td>62.351</td>\n      <td>9216418</td>\n      <td>706.157306</td>\n    </tr>\n    <tr>\n      <th>3309</th>\n      <td>Zimbabwe</td>\n      <td>Africa</td>\n      <td>1992</td>\n      <td>60.377</td>\n      <td>10704340</td>\n      <td>693.420786</td>\n    </tr>\n    <tr>\n      <th>3310</th>\n      <td>Zimbabwe</td>\n      <td>Africa</td>\n      <td>1997</td>\n      <td>46.809</td>\n      <td>11404948</td>\n      <td>792.449960</td>\n    </tr>\n    <tr>\n      <th>3311</th>\n      <td>Zimbabwe</td>\n      <td>Africa</td>\n      <td>2002</td>\n      <td>39.989</td>\n      <td>11926563</td>\n      <td>672.038623</td>\n    </tr>\n    <tr>\n      <th>3312</th>\n      <td>Zimbabwe</td>\n      <td>Africa</td>\n      <td>2007</td>\n      <td>43.487</td>\n      <td>12311143</td>\n      <td>469.709298</td>\n    </tr>\n  </tbody>\n</table>\n<p>3313 rows × 6 columns</p>\n</div>"
     },
     "execution_count": 5,
     "metadata": {},
     "output_type": "execute_result"
    }
   ],
   "source": [
    "# read example-data\n",
    "df = pd.read_csv('https://raw.githubusercontent.com/plotly/datasets/master/gapminder_unfiltered.csv')\n",
    "df"
   ]
  },
  {
   "cell_type": "code",
   "execution_count": 6,
   "id": "925b02f0",
   "metadata": {
    "ExecuteTime": {
     "end_time": "2023-06-27T10:57:08.933856432Z",
     "start_time": "2023-06-27T10:57:08.922704391Z"
    }
   },
   "outputs": [],
   "source": [
    "# usually: app = Dash(__name__)\n",
    "# generate new app instance\n",
    "app = JupyterDash(__name__)"
   ]
  },
  {
   "cell_type": "code",
   "execution_count": 7,
   "id": "74100627-875a-4b12-a12c-80c6999145f9",
   "metadata": {
    "ExecuteTime": {
     "end_time": "2023-06-27T10:57:09.681689424Z",
     "start_time": "2023-06-27T10:57:09.669686180Z"
    }
   },
   "outputs": [],
   "source": [
    "# create layout by\n",
    "app.layout = html.Div([\n",
    "    html.H1(children='Title of Dash App', style={'textAlign':'center'}, id=\"h1_title\"),\n",
    "    dcc.Dropdown(df.country.unique(), value='Germany', id='dropdown_selection'),                   # https://dash.plotly.com/dash-core-components/dropdown\n",
    "    dcc.Graph(id='graph_content')                                                                  # https://dash.plotly.com/dash-core-components/graph\n",
    "])"
   ]
  },
  {
   "cell_type": "code",
   "execution_count": 8,
   "id": "be4b9192",
   "metadata": {
    "ExecuteTime": {
     "end_time": "2023-06-27T10:57:10.828084435Z",
     "start_time": "2023-06-27T10:57:10.818640683Z"
    }
   },
   "outputs": [],
   "source": [
    "@callback(\n",
    "    Output('graph_content', 'figure'),\n",
    "    Input('dropdown_selection', 'value')\n",
    ")\n",
    "def update_graph(value):\n",
    "    dff = df[df.country==value]\n",
    "    return px.line(dff, x='year', y='pop')"
   ]
  },
  {
   "cell_type": "code",
   "execution_count": 9,
   "id": "e57c631f-6244-45d9-88e0-915fb072261c",
   "metadata": {
    "ExecuteTime": {
     "end_time": "2023-06-27T10:57:12.359317619Z",
     "start_time": "2023-06-27T10:57:12.300901891Z"
    }
   },
   "outputs": [
    {
     "name": "stdout",
     "output_type": "stream",
     "text": [
      "Dash is running on http://127.0.0.1:8050/\n",
      "\n"
     ]
    },
    {
     "data": {
      "text/plain": "<IPython.lib.display.IFrame at 0x7f5b560a4c10>",
      "text/html": "\n        <iframe\n            width=\"100%\"\n            height=\"650\"\n            src=\"http://127.0.0.1:8050/\"\n            frameborder=\"0\"\n            allowfullscreen\n            \n        ></iframe>\n        "
     },
     "metadata": {},
     "output_type": "display_data"
    }
   ],
   "source": [
    "# usually: app.run(debug=True, port=4711, host='0.0.0.0')\n",
    "app.run_server(mode=\"inline\", debug=True)"
   ]
  },
  {
   "attachments": {},
   "cell_type": "markdown",
   "id": "4f6027a4",
   "metadata": {},
   "source": [
    "## Example: Creating a Dash Dashboard with Bootstrap"
   ]
  },
  {
   "cell_type": "code",
   "execution_count": 10,
   "id": "1e4ac45c",
   "metadata": {
    "ExecuteTime": {
     "end_time": "2023-06-27T10:57:17.444036534Z",
     "start_time": "2023-06-27T10:57:17.419979880Z"
    }
   },
   "outputs": [],
   "source": [
    "import dash_bootstrap_components as dbc"
   ]
  },
  {
   "cell_type": "code",
   "execution_count": 11,
   "id": "db9f8e76",
   "metadata": {
    "ExecuteTime": {
     "end_time": "2023-06-27T10:57:18.347699016Z",
     "start_time": "2023-06-27T10:57:18.242286584Z"
    }
   },
   "outputs": [],
   "source": [
    "app = JupyterDash(__name__, external_stylesheets=[dbc.themes.BOOTSTRAP]) # more themes: https://dash-bootstrap-components.opensource.faculty.ai/docs/themes/explorer/\n",
    "df = pd.read_csv('https://raw.githubusercontent.com/plotly/datasets/master/gapminder_unfiltered.csv')"
   ]
  },
  {
   "cell_type": "code",
   "execution_count": 12,
   "id": "01420559",
   "metadata": {
    "ExecuteTime": {
     "end_time": "2023-06-27T10:57:23.230924390Z",
     "start_time": "2023-06-27T10:57:22.998369346Z"
    }
   },
   "outputs": [
    {
     "name": "stdout",
     "output_type": "stream",
     "text": [
      "Dash is running on http://127.0.0.1:8050/\n",
      "\n"
     ]
    },
    {
     "data": {
      "text/plain": "<IPython.lib.display.IFrame at 0x7f5b547034f0>",
      "text/html": "\n        <iframe\n            width=\"100%\"\n            height=\"650\"\n            src=\"http://127.0.0.1:8050/\"\n            frameborder=\"0\"\n            allowfullscreen\n            \n        ></iframe>\n        "
     },
     "metadata": {},
     "output_type": "display_data"
    }
   ],
   "source": [
    "# use bootstrap elements\n",
    "initial_country = \"Germany\"\n",
    "app.layout = html.Div([\n",
    "    html.H1(children='Title of Dash App', style={'textAlign':'center'}, id=\"h1_title\"),\n",
    "    dcc.Dropdown(df.country.unique(), value=initial_country, id='dropdown_selection'),                   \n",
    "    dcc.Graph(id='graph_content'),                                                                \n",
    "    dbc.Tooltip(\"Select a Country\",target=\"dropdown_selection\", id=\"tt_dropdown\"),                            # reference target by ID\n",
    "    dbc.Tooltip(f\"Population growth for {initial_country}\",target=\"h1_title\", id='tt_graph')\n",
    "])\n",
    "\n",
    "@callback(\n",
    "    [\n",
    "        Output('graph_content', 'figure'),      # Multiple Outputs are now a List\n",
    "        Output('tt_graph', 'children')\n",
    "    ],\n",
    "    Input('dropdown_selection', 'value')\n",
    ")\n",
    "def update_graph(country_selection):                                                            # change input variable to useful name\n",
    "    dff = df[df.country==country_selection]\n",
    "    return px.line(dff, x='year', y='pop'), f\"Population growth for {country_selection}\"        # return a n-tuple to n outputs\n",
    "\n",
    "\n",
    "app.run_server(mode=\"inline\", debug=True)"
   ]
  },
  {
   "cell_type": "code",
   "execution_count": 13,
   "outputs": [
    {
     "name": "stdout",
     "output_type": "stream",
     "text": [
      "Dash is running on http://127.0.0.1:8050/\n",
      "\n"
     ]
    },
    {
     "data": {
      "text/plain": "<IPython.lib.display.IFrame at 0x7f5b54703430>",
      "text/html": "\n        <iframe\n            width=\"100%\"\n            height=\"650\"\n            src=\"http://127.0.0.1:8050/\"\n            frameborder=\"0\"\n            allowfullscreen\n            \n        ></iframe>\n        "
     },
     "metadata": {},
     "output_type": "display_data"
    }
   ],
   "source": [
    "from dash import dash_table\n",
    "df = pd.read_csv('https://raw.githubusercontent.com/plotly/datasets/master/gapminder_unfiltered.csv')\n",
    "\n",
    "app = JupyterDash(__name__, external_stylesheets=[dbc.themes.BOOTSTRAP])\n",
    "\n",
    "# App layout\n",
    "app.layout = dbc.Container([\n",
    "    dbc.Row([\n",
    "        html.Div('App with Data, Graph, and Controls', className=\"text-primary text-center fs-3\")\n",
    "    ]),\n",
    "\n",
    "    dbc.Row([\n",
    "        dbc.RadioItems(options=[{\"label\": x, \"value\": x} for x in ['pop', 'lifeExp', 'gdpPercap']],\n",
    "                       value='lifeExp',\n",
    "                       inline=True,\n",
    "                       id='radio-buttons-final')\n",
    "    ]),\n",
    "\n",
    "    dbc.Row([\n",
    "        dbc.Col([\n",
    "            dash_table.DataTable(data=df.to_dict('records'), page_size=12, style_table={'overflowX': 'auto'})\n",
    "        ], width=6),\n",
    "\n",
    "        dbc.Col([\n",
    "            dcc.Graph(figure={}, id='my-first-graph-final')\n",
    "        ], width=6),\n",
    "    ]),\n",
    "\n",
    "], fluid=True)\n",
    "\n",
    "# Add controls to build the interaction\n",
    "@callback(\n",
    "    Output(component_id='my-first-graph-final', component_property='figure'),\n",
    "    Input(component_id='radio-buttons-final', component_property='value')\n",
    ")\n",
    "def update_graph(col_chosen):\n",
    "    fig = px.histogram(df, x='continent', y=col_chosen, histfunc='avg')\n",
    "    return fig\n",
    "\n",
    "\n",
    "\n",
    "app.run_server(mode=\"inline\", debug=True)"
   ],
   "metadata": {
    "collapsed": false,
    "ExecuteTime": {
     "end_time": "2023-06-27T10:57:30.624836703Z",
     "start_time": "2023-06-27T10:57:30.367533582Z"
    }
   }
  },
  {
   "cell_type": "markdown",
   "source": [
    "## Pitfalls\n",
    "### Multiple Outputs\n",
    "Multiple Outputs are a List. Every Output can only be used **ONCE**. If you want to use the same Output in multiple callbacks, create a 'master' callback for all Inputs and distinguish the inputs by the `Input`-parameter.\n",
    "You can use `dash.no_update` to prevent an Output from updating.\n",
    "```python\n",
    "@callback(\n",
    "    [\n",
    "        Output(component_id='output1', component_property='children'),\n",
    "        Output(component_id='output2', component_property='children')\n",
    "    ],\n",
    "    [\n",
    "        Input(component_id='button1', component_property='n_clicks'),\n",
    "        Input(component_id='button1', component_property='n_clicks')\n",
    "    ]\n",
    ")\n",
    "def buttons(btn1_clicks, btn2_clicks):\n",
    "    if btn1_clicks is None and btn2_clicks is None:\n",
    "        return dash.no_update, dash.no_update\n",
    "    elif btn1_clicks is None:\n",
    "        return dash.no_update, f\"clicked {btn2_clicks} times\"\n",
    "    elif btn2_clicks is None:\n",
    "        return f\"clicked {btn1_clicks} times\", dash.no_update\n",
    "    else:\n",
    "        return f\"clicked {btn1_clicks} times\", f\"clicked {btn2_clicks} times\"\n",
    "```\n",
    "\n",
    "### State between callbacks\n",
    "Dash ist stateless, so every user gets an own session. Therefore the Usage of global variables (e.g. the `df` in the examples) is not recommended.\n",
    "To share data between Callbacks use `dcc.Store()`, a component that stores JSON-serialized data in the users browser-cache.\n",
    "\n",
    "```python\n",
    "@callback(\n",
    "    [\n",
    "        Output(component_id='output1', component_property='children'),\n",
    "        Output(component_id='output2', component_property='children'),\n",
    "        Output(component_id='store1', component_property='data'),\n",
    "        Output(component_id='store2', component_property='data')\n",
    "    ],\n",
    "    [\n",
    "        Input(component_id='button1', component_property='n_clicks'),\n",
    "        Input(component_id='button1', component_property='n_clicks')\n",
    "    ]\n",
    "    [\n",
    "        State(component_id='store1', component_property='data'),\n",
    "        State(component_id='store2', component_property='data')\n",
    "    ]\n",
    ")\n",
    "def buttons(btn1_clicks, btn2_clicks, data1, data2):\n",
    "    out1, out2, store1, store2 = dash.no_update, dash.no_update, dash.no_update, dash.no_update\n",
    "\n",
    "    if data1 is None:\n",
    "        store1 = {'button_clicks': 0}\n",
    "    if data2 is None:\n",
    "        store2 = {'button_clicks': 0}\n",
    "\n",
    "    if btn1_clicks is not None:\n",
    "        store1['button_clicks'] = btn1_clicks\n",
    "        out1 = f\"clicked {store1['button_clicks']} times\"\n",
    "    if btn2_clicks is not None:\n",
    "        store2['button_clicks'] = btn2_clicks\n",
    "        out2 = f\"clicked {store2['button_clicks']} times\"\n",
    "\n",
    "    return out1, out2, store1, store2\n",
    "```"
   ],
   "metadata": {
    "collapsed": false
   }
  },
  {
   "cell_type": "markdown",
   "source": [
    "## Alternatives\n",
    "There are several alternatives to Plotly Dash for creating interactive web applications with Python. Some popular alternatives include:\n",
    "\n",
    "* https://streamlit.io `Streamlit` is a Python library that allows you to build interactive web applications for data science and machine learning tasks. It focuses on simplicity and ease of use, allowing you to create apps quickly with just a few lines of code.\n",
    "\n",
    "* https://bokeh.org `Bokeh` is a powerful interactive visualization library for Python. It provides a high-level interface for creating interactive plots, dashboards, and data applications. Bokeh supports a wide range of plot types and can be used in combination with other web frameworks like Flask or Django.\n",
    "\n",
    "* https://panel.holoviz.org `Panel` is a high-level app and dashboarding solution for Python. It integrates seamlessly with popular plotting libraries like Matplotlib, Bokeh, and Plotly, allowing you to build interactive dashboards with a variety of widgets and layout options.\n",
    "\n",
    "These alternatives offer different features, levels of complexity, and trade-offs, so you can choose the one that best fits your specific requirements and preferences."
   ],
   "metadata": {
    "collapsed": false
   }
  },
  {
   "attachments": {},
   "cell_type": "markdown",
   "id": "92b3144e",
   "metadata": {},
   "source": [
    "## Conclusion\n",
    "\n",
    "- Plotly Dash is a powerful Python library for building web-based dashboards and applications.\n",
    "- It seamlessly integrates with Jupyter Notebooks, allowing you to create interactive visualizations within the familiar Jupyter environment.\n",
    "- Dash Bootstrap provides additional styling options and components, based on the Bootstrap framework, to enhance the visual appeal of Dash applications.\n",
    "- By combining Plotly Dash with Dash Bootstrap, you can create interactive and stylish dashboards that effectively communicate your data."
   ]
  }
 ],
 "metadata": {
  "kernelspec": {
   "display_name": "venv",
   "language": "python",
   "name": "python3"
  },
  "language_info": {
   "codemirror_mode": {
    "name": "ipython",
    "version": 3
   },
   "file_extension": ".py",
   "mimetype": "text/x-python",
   "name": "python",
   "nbconvert_exporter": "python",
   "pygments_lexer": "ipython3",
   "version": "3.10.6"
  }
 },
 "nbformat": 4,
 "nbformat_minor": 5
}
